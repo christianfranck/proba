{
  "metadata": {
    "kernelspec": {
      "name": "python",
      "display_name": "Python (Pyodide)",
      "language": "python"
    },
    "language_info": {
      "codemirror_mode": {
        "name": "python",
        "version": 3
      },
      "file_extension": ".py",
      "mimetype": "text/x-python",
      "name": "python",
      "nbconvert_exporter": "python",
      "pygments_lexer": "ipython3",
      "version": "3.8"
    }
  },
  "nbformat_minor": 4,
  "nbformat": 4,
  "cells": [
    {
      "cell_type": "markdown",
      "source": "# Enumération Directe",
      "metadata": {}
    },
    {
      "cell_type": "markdown",
      "source": "## Exemple 1\n\nSi on jette une pièce 4 fois, quelle est la probabilité d'avoir exactement 2 fois pile?",
      "metadata": {}
    },
    {
      "cell_type": "code",
      "source": "print(\"On énumère toutes les possibilités:\\n\")\npossibilités=0\ntrouvé=0\nfor j1 in ['pile','face']:\n    for j2 in ['pile','face']:\n        for j3 in ['pile','face']:\n            for j4 in ['pile','face']:\n                possibilités+=1\n                if [j1,j2,j3,j4].count('pile')==2:\n                    trouvé+=1\n                    print(\"cas\",possibilités,\":\",j1,j2,j3,j4,\"<--- exactement 2 fois pile\")\n                else:\n                    print(\"cas\",possibilités,\":\",j1,j2,j3,j4)\n                    \nprint(\"\\nOn a une probabilité de\",trouvé,\"/\",possibilités,\"d'avoir exactement 2 fois pile.\")",
      "metadata": {
        "trusted": true
      },
      "outputs": [
        {
          "name": "stdout",
          "text": "On énumère toutes les possibilités:\n\ncas 1 : pile pile pile pile\ncas 2 : pile pile pile face\ncas 3 : pile pile face pile\ncas 4 : pile pile face face <--- exactement 2 fois pile\ncas 5 : pile face pile pile\ncas 6 : pile face pile face <--- exactement 2 fois pile\ncas 7 : pile face face pile <--- exactement 2 fois pile\ncas 8 : pile face face face\ncas 9 : face pile pile pile\ncas 10 : face pile pile face <--- exactement 2 fois pile\ncas 11 : face pile face pile <--- exactement 2 fois pile\ncas 12 : face pile face face\ncas 13 : face face pile pile <--- exactement 2 fois pile\ncas 14 : face face pile face\ncas 15 : face face face pile\ncas 16 : face face face face\n\nOn a une probabilité de 6 / 16 d'avoir exactement 2 fois pile.\n",
          "output_type": "stream"
        }
      ],
      "execution_count": 1
    },
    {
      "cell_type": "markdown",
      "source": "## Exemple 2\n\nCombien de permutations peut on faire avec les lettres 'abcd' ?",
      "metadata": {}
    },
    {
      "cell_type": "code",
      "source": "def f(lettres,t=\"\",cas=0):\n    for i in range(len(lettres)):\n        cas=f(lettres[:i]+lettres[i+1:],t+lettres[i],cas)\n    if len(lettres)==0:\n        cas+=1\n        print(\"cas\",cas,\":\",t)\n    return cas\n        \nprint(\"\\nOn peut faire\",f(\"abdc\"),\"permutations.\")",
      "metadata": {
        "trusted": true
      },
      "outputs": [
        {
          "name": "stdout",
          "text": "cas 1 : abdc\ncas 2 : abcd\ncas 3 : adbc\ncas 4 : adcb\ncas 5 : acbd\ncas 6 : acdb\ncas 7 : badc\ncas 8 : bacd\ncas 9 : bdac\ncas 10 : bdca\ncas 11 : bcad\ncas 12 : bcda\ncas 13 : dabc\ncas 14 : dacb\ncas 15 : dbac\ncas 16 : dbca\ncas 17 : dcab\ncas 18 : dcba\ncas 19 : cabd\ncas 20 : cadb\ncas 21 : cbad\ncas 22 : cbda\ncas 23 : cdab\ncas 24 : cdba\n\nOn peut faire 24 permutations.\n",
          "output_type": "stream"
        }
      ],
      "execution_count": 6
    },
    {
      "cell_type": "code",
      "source": "",
      "metadata": {
        "trusted": true
      },
      "outputs": [],
      "execution_count": null
    }
  ]
}