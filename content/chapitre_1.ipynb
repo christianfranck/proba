{
  "metadata": {
    "kernelspec": {
      "name": "python",
      "display_name": "Python (Pyodide)",
      "language": "python"
    },
    "language_info": {
      "codemirror_mode": {
        "name": "python",
        "version": 3
      },
      "file_extension": ".py",
      "mimetype": "text/x-python",
      "name": "python",
      "nbconvert_exporter": "python",
      "pygments_lexer": "ipython3",
      "version": "3.8"
    }
  },
  "nbformat_minor": 4,
  "nbformat": 4,
  "cells": [
    {
      "cell_type": "markdown",
      "source": "# Enumération Directe",
      "metadata": {}
    },
    {
      "cell_type": "markdown",
      "source": "## Exemple 1\n\nSi on jette une pièce 4 fois, quelle est la probabilité d'avoir exactement 2 fois pile?",
      "metadata": {}
    },
    {
      "cell_type": "code",
      "source": "print(\"On énumère toutes les possibilités:\\n\")\npossibilités=0\ntrouvé=0\nfor j1 in ['pile','face']:\n    for j2 in ['pile','face']:\n        for j3 in ['pile','face']:\n            for j4 in ['pile','face']:\n                possibilités+=1\n                if [j1,j2,j3,j4].count('pile')==2:\n                    trouvé+=1\n                    print(\"cas\",possibilités,\":\",j1,j2,j3,j4,\"<--- exactement 2 fois pile\")\n                else:\n                    print(\"cas\",possibilités,\":\",j1,j2,j3,j4)\n                    \nprint(\"\\nOn a une probabilité de\",trouvé,\"/\",possibilités,\"d'avoir exactement 2 fois pile.\")",
      "metadata": {
        "trusted": true
      },
      "outputs": [
        {
          "name": "stdout",
          "text": "On énumère toutes les possibilités:\n\ncas 1 : pile pile pile pile\ncas 2 : pile pile pile face\ncas 3 : pile pile face pile\ncas 4 : pile pile face face <--- exactement 2 fois pile\ncas 5 : pile face pile pile\ncas 6 : pile face pile face <--- exactement 2 fois pile\ncas 7 : pile face face pile <--- exactement 2 fois pile\ncas 8 : pile face face face\ncas 9 : face pile pile pile\ncas 10 : face pile pile face <--- exactement 2 fois pile\ncas 11 : face pile face pile <--- exactement 2 fois pile\ncas 12 : face pile face face\ncas 13 : face face pile pile <--- exactement 2 fois pile\ncas 14 : face face pile face\ncas 15 : face face face pile\ncas 16 : face face face face\n\nOn a une probabilité de 6 / 16 d'avoir exactement 2 fois pile.\n",
          "output_type": "stream"
        }
      ],
      "execution_count": 22
    },
    {
      "cell_type": "markdown",
      "source": "## Exemple 2\n\nCombien de permutations peut on faire avec les lettres 'abcd' ?",
      "metadata": {}
    },
    {
      "cell_type": "code",
      "source": "\n\ndef f(lettres,t=\"\"):\n    possibilités=0\n    for i in range(len(lettres)):\n        possibilités+=f(lettres[:i]+lettres[i+1:],t+lettres[i])\n    if len(lettres)==0:\n        possibilités+=1\n        print(\"cas\",possibilités,\":\",t)\n    return possibilités\n        \nf(\"abcd\")",
      "metadata": {
        "trusted": true
      },
      "outputs": [
        {
          "name": "stdout",
          "text": "cas 1 : abcd\ncas 2 : abdc\ncas 3 : acbd\ncas 4 : acdb\ncas 5 : adbc\ncas 6 : adcb\ncas 7 : bacd\ncas 8 : badc\ncas 9 : bcad\ncas 10 : bcda\ncas 11 : bdac\ncas 12 : bdca\ncas 13 : cabd\ncas 14 : cadb\ncas 15 : cbad\ncas 16 : cbda\ncas 17 : cdab\ncas 18 : cdba\ncas 19 : dabc\ncas 20 : dacb\ncas 21 : dbac\ncas 22 : dbca\ncas 23 : dcab\ncas 24 : dcba\n",
          "output_type": "stream"
        }
      ],
      "execution_count": 36
    },
    {
      "cell_type": "code",
      "source": "",
      "metadata": {
        "trusted": true
      },
      "outputs": [],
      "execution_count": null
    }
  ]
}