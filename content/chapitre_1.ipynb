{
 "cells": [
  {
   "cell_type": "markdown",
   "metadata": {},
   "source": [
    "# Enumération Directe"
   ]
  },
  {
   "cell_type": "markdown",
   "metadata": {},
   "source": [
    "## Exemple 1\n",
    "\n",
    "Si on jette une pièce 4 fois, quelle est la probabilité d'avoir exactement 2 fois pile?"
   ]
  },
  {
   "cell_type": "code",
   "execution_count": 1,
   "metadata": {},
   "outputs": [
    {
     "name": "stdout",
     "output_type": "stream",
     "text": [
      "On énumère toutes les possibilités:\n",
      "\n",
      "cas 1 : pile pile pile pile\n",
      "cas 2 : pile pile pile face\n",
      "cas 3 : pile pile face pile\n",
      "cas 4 : pile pile face face <--- exactement 2 fois pile\n",
      "cas 5 : pile face pile pile\n",
      "cas 6 : pile face pile face <--- exactement 2 fois pile\n",
      "cas 7 : pile face face pile <--- exactement 2 fois pile\n",
      "cas 8 : pile face face face\n",
      "cas 9 : face pile pile pile\n",
      "cas 10 : face pile pile face <--- exactement 2 fois pile\n",
      "cas 11 : face pile face pile <--- exactement 2 fois pile\n",
      "cas 12 : face pile face face\n",
      "cas 13 : face face pile pile <--- exactement 2 fois pile\n",
      "cas 14 : face face pile face\n",
      "cas 15 : face face face pile\n",
      "cas 16 : face face face face\n",
      "\n",
      "On a une probabilité de 6 / 16 d'avoir exactement 2 fois pile.\n"
     ]
    }
   ],
   "source": [
    "print(\"On énumère toutes les possibilités:\\n\")\n",
    "possibilités=0\n",
    "trouvé=0\n",
    "for j1 in ['pile','face']:\n",
    "    for j2 in ['pile','face']:\n",
    "        for j3 in ['pile','face']:\n",
    "            for j4 in ['pile','face']:\n",
    "                possibilités+=1\n",
    "                if [j1,j2,j3,j4].count('pile')==2:\n",
    "                    trouvé+=1\n",
    "                    print(\"cas\",possibilités,\":\",j1,j2,j3,j4,\"<--- exactement 2 fois pile\")\n",
    "                else:\n",
    "                    print(\"cas\",possibilités,\":\",j1,j2,j3,j4)\n",
    "                    \n",
    "print(\"\\nOn a une probabilité de\",trouvé,\"/\",possibilités,\"d'avoir exactement 2 fois pile.\")"
   ]
  },
  {
   "cell_type": "markdown",
   "metadata": {},
   "source": [
    "## Exemple 2\n",
    "\n",
    "Combien de permutations peut on faire avec les lettres 'abcd' ?"
   ]
  },
  {
   "cell_type": "code",
   "execution_count": 2,
   "metadata": {},
   "outputs": [
    {
     "name": "stdout",
     "output_type": "stream",
     "text": [
      "cas 1 : abdc\n",
      "cas 2 : abcd\n",
      "cas 3 : adbc\n",
      "cas 4 : adcb\n",
      "cas 5 : acbd\n",
      "cas 6 : acdb\n",
      "cas 7 : badc\n",
      "cas 8 : bacd\n",
      "cas 9 : bdac\n",
      "cas 10 : bdca\n",
      "cas 11 : bcad\n",
      "cas 12 : bcda\n",
      "cas 13 : dabc\n",
      "cas 14 : dacb\n",
      "cas 15 : dbac\n",
      "cas 16 : dbca\n",
      "cas 17 : dcab\n",
      "cas 18 : dcba\n",
      "cas 19 : cabd\n",
      "cas 20 : cadb\n",
      "cas 21 : cbad\n",
      "cas 22 : cbda\n",
      "cas 23 : cdab\n",
      "cas 24 : cdba\n"
     ]
    },
    {
     "data": {
      "text/plain": [
       "24"
      ]
     },
     "execution_count": 2,
     "metadata": {},
     "output_type": "execute_result"
    }
   ],
   "source": [
    "def f(lettres,t=\"\",cas=0):\n",
    "    for i in range(len(lettres)):\n",
    "        cas=f(lettres[:i]+lettres[i+1:],t+lettres[i],cas)\n",
    "    if len(lettres)==0:\n",
    "        cas+=1\n",
    "        print(\"cas\",cas,\":\",t)\n",
    "    return cas\n",
    "        \n",
    "f(\"abdc\")"
   ]
  },
  {
   "cell_type": "code",
   "execution_count": null,
   "metadata": {},
   "outputs": [],
   "source": []
  },
  {
   "cell_type": "code",
   "execution_count": null,
   "metadata": {},
   "outputs": [],
   "source": []
  }
 ],
 "metadata": {
  "kernelspec": {
   "display_name": "Python 3 (ipykernel)",
   "language": "python",
   "name": "python3"
  },
  "language_info": {
   "codemirror_mode": {
    "name": "ipython",
    "version": 3
   },
   "file_extension": ".py",
   "mimetype": "text/x-python",
   "name": "python",
   "nbconvert_exporter": "python",
   "pygments_lexer": "ipython3",
   "version": "3.9.6"
  }
 },
 "nbformat": 4,
 "nbformat_minor": 4
}
